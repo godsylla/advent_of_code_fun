{
 "cells": [
  {
   "cell_type": "code",
   "execution_count": 58,
   "metadata": {},
   "outputs": [],
   "source": [
    "raw_input = list()\n",
    "with open ('./day4_part1_input.txt') as f:\n",
    "    raw_input.extend([entry.strip() for entry in f.readlines()])"
   ]
  },
  {
   "cell_type": "code",
   "execution_count": 61,
   "metadata": {},
   "outputs": [
    {
     "name": "stdout",
     "output_type": "stream",
     "text": [
      "['byr:1971',\n",
      " 'eyr:2039',\n",
      " 'hgt:172in pid:170cm hcl:17106b iyr:2012 ecl:gry',\n",
      " 'cid:339',\n",
      " '']\n"
     ]
    }
   ],
   "source": [
    "pprint(raw_input[:5])"
   ]
  },
  {
   "cell_type": "code",
   "execution_count": 94,
   "metadata": {},
   "outputs": [],
   "source": [
    "all_passports = list()\n",
    "\n",
    " \n",
    "for line in raw_input: \n",
    "    passports = dict()\n",
    "    if line != '':\n",
    "        pp_elems = ([elem.split(':') for elem in line.split()])\n",
    "        for elem in pp_elems:\n",
    "            passports.update({elem[0]:elem[1]})\n",
    "\n",
    "    else:\n",
    "        all_passports.append(passports)\n",
    "        "
   ]
  },
  {
   "cell_type": "code",
   "execution_count": 95,
   "metadata": {},
   "outputs": [
    {
     "data": {
      "text/plain": [
       "1138"
      ]
     },
     "execution_count": 95,
     "metadata": {},
     "output_type": "execute_result"
    }
   ],
   "source": [
    "len(raw_input)"
   ]
  },
  {
   "cell_type": "code",
   "execution_count": 96,
   "metadata": {},
   "outputs": [
    {
     "data": {
      "text/plain": [
       "285"
      ]
     },
     "execution_count": 96,
     "metadata": {},
     "output_type": "execute_result"
    }
   ],
   "source": [
    "len(all_passports)"
   ]
  },
  {
   "cell_type": "code",
   "execution_count": 9,
   "metadata": {},
   "outputs": [],
   "source": [
    "def check_passport_validity (passport:dict) -> bool:\n",
    "    \"\"\"\n",
    "    if all valid fields present --> valid\n",
    "    if only cid is missing --> valid, otherwise invalid\n",
    "    if cid + other field missing --> invalid\n",
    "    \"\"\"\n",
    "    return len(passport) == 8 or len(passport) == 7 and 'cid' not in passport"
   ]
  },
  {
   "cell_type": "code",
   "execution_count": 13,
   "metadata": {},
   "outputs": [
    {
     "data": {
      "text/plain": [
       "241"
      ]
     },
     "execution_count": 13,
     "metadata": {},
     "output_type": "execute_result"
    }
   ],
   "source": [
    "valids = list()\n",
    "for passport in all_passports:\n",
    "    valids.append(check_passport_validity(passport))\n",
    "    \n",
    "sum(valids)"
   ]
  },
  {
   "cell_type": "code",
   "execution_count": 18,
   "metadata": {},
   "outputs": [
    {
     "data": {
      "text/plain": [
       "['byr:1971\\n',\n",
       " 'eyr:2039\\n',\n",
       " 'hgt:172in pid:170cm hcl:17106b iyr:2012 ecl:gry\\n',\n",
       " 'cid:339\\n',\n",
       " '\\n']"
      ]
     },
     "execution_count": 18,
     "metadata": {},
     "output_type": "execute_result"
    }
   ],
   "source": [
    "raw_input[:5]"
   ]
  },
  {
   "cell_type": "markdown",
   "metadata": {},
   "source": [
    "### Someone else's solution"
   ]
  },
  {
   "cell_type": "code",
   "execution_count": 38,
   "metadata": {},
   "outputs": [],
   "source": [
    "with open('./day4_part1_input.txt', 'r') as collect_data:\n",
    "    all_entries = [entry.strip() for entry in collect_data.readlines()]"
   ]
  },
  {
   "cell_type": "code",
   "execution_count": 139,
   "metadata": {},
   "outputs": [
    {
     "data": {
      "text/plain": [
       "1138"
      ]
     },
     "execution_count": 139,
     "metadata": {},
     "output_type": "execute_result"
    }
   ],
   "source": [
    "len(all_entries)"
   ]
  },
  {
   "cell_type": "code",
   "execution_count": 176,
   "metadata": {},
   "outputs": [],
   "source": [
    "def parse_input (lines):\n",
    "    \"\"\"\n",
    "    Scan through every line and create list of passports stored as dictionaries.\n",
    "    \"\"\"\n",
    "    all_passports = []\n",
    "    count = 0\n",
    "\n",
    "    for l in lines:\n",
    "\n",
    "        all_passports.append(dict())\n",
    "\n",
    "        if l != \"\":\n",
    "            data = [_.split(\":\") for _ in l.split()]\n",
    "            for elem in data:\n",
    "                k, v = elem[0], elem[1]\n",
    "                all_passports[count][k] = v\n",
    "        else:\n",
    "            count += 1\n",
    "\n",
    "    return list(filter(None, all_passports))"
   ]
  },
  {
   "cell_type": "code",
   "execution_count": 177,
   "metadata": {
    "scrolled": true
   },
   "outputs": [],
   "source": [
    "all_passports = create_object(all_entries)"
   ]
  },
  {
   "cell_type": "code",
   "execution_count": 178,
   "metadata": {},
   "outputs": [
    {
     "name": "stdout",
     "output_type": "stream",
     "text": [
      "[{'byr': '1971',\n",
      "  'cid': '339',\n",
      "  'ecl': 'gry',\n",
      "  'eyr': '2039',\n",
      "  'hcl': '17106b',\n",
      "  'hgt': '172in',\n",
      "  'iyr': '2012',\n",
      "  'pid': '170cm'},\n",
      " {'byr': '1977',\n",
      "  'ecl': 'grn',\n",
      "  'eyr': '2027',\n",
      "  'hcl': '#a97842',\n",
      "  'hgt': '161cm',\n",
      "  'iyr': '2011',\n",
      "  'pid': '910468396'},\n",
      " {'byr': '1941',\n",
      "  'cid': '257',\n",
      "  'ecl': 'gry',\n",
      "  'eyr': '2029',\n",
      "  'hcl': '#cfa07d',\n",
      "  'hgt': '186cm',\n",
      "  'iyr': '2012',\n",
      "  'pid': '108935675'}]\n"
     ]
    }
   ],
   "source": [
    "pprint(all_passports[:3])"
   ]
  },
  {
   "cell_type": "code",
   "execution_count": 179,
   "metadata": {},
   "outputs": [
    {
     "name": "stdout",
     "output_type": "stream",
     "text": [
      "['byr:1971',\n",
      " 'eyr:2039',\n",
      " 'hgt:172in pid:170cm hcl:17106b iyr:2012 ecl:gry',\n",
      " 'cid:339',\n",
      " '',\n",
      " 'hgt:161cm eyr:2027',\n",
      " 'ecl:grn iyr:2011 hcl:#a97842 byr:1977 pid:910468396',\n",
      " '',\n",
      " 'cid:257',\n",
      " 'ecl:gry hgt:186cm iyr:2012']\n"
     ]
    }
   ],
   "source": [
    "pprint(all_entries[:10])"
   ]
  },
  {
   "cell_type": "code",
   "execution_count": null,
   "metadata": {},
   "outputs": [],
   "source": []
  }
 ],
 "metadata": {
  "kernelspec": {
   "display_name": "Python 3",
   "language": "python",
   "name": "python3"
  },
  "language_info": {
   "codemirror_mode": {
    "name": "ipython",
    "version": 3
   },
   "file_extension": ".py",
   "mimetype": "text/x-python",
   "name": "python",
   "nbconvert_exporter": "python",
   "pygments_lexer": "ipython3",
   "version": "3.7.7"
  }
 },
 "nbformat": 4,
 "nbformat_minor": 4
}
