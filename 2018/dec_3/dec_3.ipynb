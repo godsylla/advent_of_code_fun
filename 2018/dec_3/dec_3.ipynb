{
 "cells": [
  {
   "cell_type": "markdown",
   "metadata": {},
   "source": [
    "# --- Day 3: No Matter How You Slice It ---\n",
    "The Elves managed to locate the chimney-squeeze prototype fabric for Santa's suit (thanks to someone who helpfully wrote its box IDs on the wall of the warehouse in the middle of the night). Unfortunately, anomalies are still affecting them - nobody can even agree on how to cut the fabric.\n",
    "\n",
    "\n",
    "The whole piece of fabric they're working on is a very large square - at least 1000 inches on each side.\n",
    "\n",
    "\n",
    "Each Elf has made a claim about which area of fabric would be ideal for Santa's suit. All claims have an ID and consist of a single rectangle with edges parallel to the edges of the fabric. Each claim's rectangle is defined as follows:\n",
    "\n",
    "- The number of inches between the left edge of the fabric and the left edge of the rectangle.\n",
    "- The number of inches between the top edge of the fabric and the top edge of the rectangle.\n",
    "- The width of the rectangle in inches.\n",
    "- The height of the rectangle in inches.\n",
    "\n",
    "\n",
    "A claim like #123 @ 3,2: 5x4 means that claim ID 123 specifies a rectangle 3 inches from the left edge, 2 inches from the top edge, 5 inches wide, and 4 inches tall. Visually, it claims the square inches of fabric represented by # (and ignores the square inches of fabric represented by .) in the diagram below:\n",
    "\n",
    "\n",
    "    ...........\n",
    "    ...........\n",
    "    ...#####...\n",
    "    ...#####...\n",
    "    ...#####...\n",
    "    ...#####...\n",
    "    ...........\n",
    "    ...........\n",
    "    ...........\n",
    "\n",
    "\n",
    "The problem is that many of the claims overlap, causing two or more claims to cover part of the same areas. For example, consider the following claims:\n",
    "\n",
    "#1 @ 1,3: 4x4\n",
    "#2 @ 3,1: 4x4\n",
    "#3 @ 5,5: 2x2\n",
    "Visually, these claim the following areas:\n",
    "\n",
    "    ........\n",
    "    ...2222.\n",
    "    ...2222.\n",
    "    .11XX22.\n",
    "    .11XX22.\n",
    "    .111133.\n",
    "    .111133.\n",
    "    ........\n",
    "    \n",
    "    \n",
    "The four square inches marked with X are claimed by both 1 and 2. (Claim 3, while adjacent to the others, does not overlap either of them.)\n",
    "\n",
    "If the Elves all proceed with their own plans, none of them will have enough fabric. How many square inches of fabric are within two or more claims?"
   ]
  },
  {
   "cell_type": "code",
   "execution_count": 28,
   "metadata": {},
   "outputs": [],
   "source": [
    "import numpy as np"
   ]
  },
  {
   "cell_type": "code",
   "execution_count": 1,
   "metadata": {
    "scrolled": false
   },
   "outputs": [
    {
     "data": {
      "text/plain": [
       "['#1 @ 100,366: 24x27',\n",
       " '#2 @ 726,271: 11x15',\n",
       " '#3 @ 343,814: 17x18',\n",
       " '#4 @ 184,299: 27x11',\n",
       " '#5 @ 278,205: 18x15']"
      ]
     },
     "execution_count": 1,
     "metadata": {},
     "output_type": "execute_result"
    }
   ],
   "source": [
    "input_ = open('./dec_3_input.txt').read().split('\\n')\n",
    "input_[:5]"
   ]
  },
  {
   "cell_type": "code",
   "execution_count": 9,
   "metadata": {},
   "outputs": [
    {
     "data": {
      "text/plain": [
       "''"
      ]
     },
     "execution_count": 9,
     "metadata": {},
     "output_type": "execute_result"
    }
   ],
   "source": [
    "# there's an extra hanging empty string on the end to remove\n",
    "input_.pop(-1)"
   ]
  },
  {
   "cell_type": "code",
   "execution_count": 10,
   "metadata": {},
   "outputs": [
    {
     "data": {
      "text/plain": [
       "1335"
      ]
     },
     "execution_count": 10,
     "metadata": {},
     "output_type": "execute_result"
    }
   ],
   "source": [
    "len(input_)"
   ]
  },
  {
   "cell_type": "markdown",
   "metadata": {},
   "source": [
    "#### Notes:\n",
    "- check if Claim #1 is within 2 claims of Claim #3, but still need to check Claim #2\n",
    "- check if Claim #2 is within 2 claims of Claim #4, but still need to check Claim #3\n",
    "- check if Claim #3 is within 2 claims of Claim #5, etc\n",
    "- check if claim #4 is within 2 claims of Claim #6, etc\n",
    "- and so on\n",
    "\n",
    "Therefore, we need to get the outer edges of each group of 3 claims\n",
    "The claims to check must be consecutive"
   ]
  },
  {
   "cell_type": "code",
   "execution_count": 11,
   "metadata": {
    "scrolled": true
   },
   "outputs": [
    {
     "data": {
      "text/plain": [
       "1335"
      ]
     },
     "execution_count": 11,
     "metadata": {},
     "output_type": "execute_result"
    }
   ],
   "source": [
    "len(input_)"
   ]
  },
  {
   "cell_type": "code",
   "execution_count": 23,
   "metadata": {},
   "outputs": [
    {
     "data": {
      "text/plain": [
       "'#1333 @ 695,587: 18x16'"
      ]
     },
     "execution_count": 23,
     "metadata": {},
     "output_type": "execute_result"
    }
   ],
   "source": [
    "test_claim = input_[1335-3]\n",
    "test_claim"
   ]
  },
  {
   "cell_type": "code",
   "execution_count": 47,
   "metadata": {},
   "outputs": [
    {
     "data": {
      "text/plain": [
       "3"
      ]
     },
     "execution_count": 47,
     "metadata": {},
     "output_type": "execute_result"
    }
   ],
   "source": [
    "test_a = test_claim[test_claim.find('@')+2:].split(':')\n",
    "test_a[1].find('x')"
   ]
  },
  {
   "cell_type": "code",
   "execution_count": 49,
   "metadata": {},
   "outputs": [
    {
     "data": {
      "text/plain": [
       "'18'"
      ]
     },
     "execution_count": 49,
     "metadata": {},
     "output_type": "execute_result"
    }
   ],
   "source": [
    "test_a[1][1:3]"
   ]
  },
  {
   "cell_type": "code",
   "execution_count": 50,
   "metadata": {},
   "outputs": [
    {
     "data": {
      "text/plain": [
       "'16'"
      ]
     },
     "execution_count": 50,
     "metadata": {},
     "output_type": "execute_result"
    }
   ],
   "source": [
    "test_a[1][4:]"
   ]
  },
  {
   "cell_type": "code",
   "execution_count": 27,
   "metadata": {},
   "outputs": [],
   "source": [
    "def get_corners (claim):\n",
    "    '''\n",
    "    get the 4 corners for each of the claims\n",
    "    '''\n",
    "    # each claim length is different based on the length of the claim #\n",
    "    at_idx = claim.find('@')     # find where the '@' symbol is \n",
    "    sub_claim_idx = at_idx + 2   # skip the empty space after the '@'\n",
    "    \n",
    "    # list object with 0 index being left, right, 1 index dimensions\n",
    "    sub_claim = claim[sub_claim_idx:].split(':')  \n",
    "    comma_idx = sub_claim[0].find(',')\n",
    "    x_idx = sub_claim[1].find('x')\n",
    "    \n",
    "    L = sub_claim[0][: comma_idx]\n",
    "    R = sub_claim[0][comma_idx+1 :]\n",
    "    Ld= sub_claim[1][1:x_idx]\n",
    "    Rd= sub_claim[1][x_idx+1 :]\n",
    "    \n",
    "    # find the corners\n",
    "    top_L = \n",
    "    top_R = \n",
    "    bot_L = \n",
    "    bot_R = \n",
    "    \n",
    "    return sub_claim"
   ]
  },
  {
   "cell_type": "code",
   "execution_count": 51,
   "metadata": {},
   "outputs": [
    {
     "data": {
      "text/plain": [
       "'282,208: 4x8'"
      ]
     },
     "execution_count": 51,
     "metadata": {},
     "output_type": "execute_result"
    }
   ],
   "source": [
    "get_corners(np.random.choice(input_))"
   ]
  },
  {
   "cell_type": "code",
   "execution_count": 19,
   "metadata": {},
   "outputs": [],
   "source": [
    "def claim_checker (claim_list, index_start):\n",
    "    '''\n",
    "    takes a list of claims\n",
    "    starts at specified index\n",
    "    '''\n",
    "    \n",
    "    # out of range checker\n",
    "    if index_start >= (len(claim_list)- 3):\n",
    "        raise Exception (f'Starting index cannot exceed {len(claim_list)-3}.')\n",
    "    \n",
    "    # get your 3 claims\n",
    "    claim_a = claim_list[starting_index]\n",
    "    claim_b = claim_list[starting_index + 1]\n",
    "    claim_c = claim_list[starting_index + 2]\n",
    "    \n",
    "    # grab corners\n",
    "    \n",
    "    "
   ]
  },
  {
   "cell_type": "code",
   "execution_count": null,
   "metadata": {},
   "outputs": [],
   "source": []
  }
 ],
 "metadata": {
  "kernelspec": {
   "display_name": "Python 3",
   "language": "python",
   "name": "python3"
  },
  "language_info": {
   "codemirror_mode": {
    "name": "ipython",
    "version": 3
   },
   "file_extension": ".py",
   "mimetype": "text/x-python",
   "name": "python",
   "nbconvert_exporter": "python",
   "pygments_lexer": "ipython3",
   "version": "3.6.5"
  }
 },
 "nbformat": 4,
 "nbformat_minor": 2
}
