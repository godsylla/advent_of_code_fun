{
 "cells": [
  {
   "cell_type": "markdown",
   "metadata": {},
   "source": [
    "# Dec 2"
   ]
  },
  {
   "cell_type": "markdown",
   "metadata": {},
   "source": [
    "## PART 1: --- Day 2: Inventory Management System ---\n",
    "\n",
    "You stop falling through time, catch your breath, and check the screen on the device. \"Destination reached. Current Year: 1518. Current Location: North Pole Utility Closet 83N10.\" You made it! Now, to find those anomalies.\n",
    "\n",
    "\n",
    "Outside the utility closet, you hear footsteps and a voice. \"...I'm not sure either. But now that so many people have chimneys, maybe he could sneak in that way?\" Another voice responds, \"Actually, we've been working on a new kind of suit that would let him fit through tight spaces like that. But, I heard that a few days ago, they lost the prototype fabric, the design plans, everything! Nobody on the team can even seem to remember important details of the project!\"\n",
    "\n",
    "\n",
    "\"Wouldn't they have had enough fabric to fill several boxes in the warehouse? They'd be stored together, so the box IDs should be similar. Too bad it would take forever to search the warehouse for two similar box IDs...\" They walk too far away to hear any more.\n",
    "\n",
    "\n",
    "Late at night, you sneak to the warehouse - who knows what kinds of paradoxes you could cause if you were discovered - and use your fancy wrist device to quickly scan every box and produce a list of the likely candidates (your puzzle input).\n",
    "\n",
    "\n",
    "To make sure you didn't miss any, you scan the likely candidate boxes again, counting the number that have an ID containing exactly two of any letter and then separately counting those with exactly three of any letter. You can multiply those two counts together to get a rudimentary checksum and compare it to what your device predicts.\n",
    "\n",
    "\n",
    "For example, if you see the following box IDs:\n",
    "\n",
    "- abcdef contains no letters that appear exactly two or three times.\n",
    "- bababc contains two a and three b, so it counts for both.\n",
    "- abbcde contains two b, but no letter appears exactly three times.\n",
    "- abcccd contains three c, but no letter appears exactly two times.\n",
    "- aabcdd contains two a and two d, but it only counts once.\n",
    "- abcdee contains two e.\n",
    "- ababab contains three a and three b, but it only counts once.\n",
    "\n",
    "\n",
    "**Of these box IDs, four of them contain a letter which appears exactly twice, and three of them contain a letter which appears exactly three times. Multiplying these together produces a checksum of 4 * 3 = 12.**\n",
    "\n",
    "\n",
    "\n",
    "#### What is the checksum for your list of box IDs?"
   ]
  },
  {
   "cell_type": "markdown",
   "metadata": {},
   "source": [
    "#### Import Packages"
   ]
  },
  {
   "cell_type": "code",
   "execution_count": 2,
   "metadata": {},
   "outputs": [],
   "source": [
    "import numpy as np\n",
    "import os\n",
    "\n",
    "from collections import Counter, defaultdict"
   ]
  },
  {
   "cell_type": "markdown",
   "metadata": {},
   "source": [
    "#### Load & Preview the Data"
   ]
  },
  {
   "cell_type": "code",
   "execution_count": 3,
   "metadata": {},
   "outputs": [
    {
     "data": {
      "text/plain": [
       "['ubkfmdjxyzlbgkrotcepvswaqx',\n",
       " 'uikfmdkuyzlbgerotcepvswaqh',\n",
       " 'uikfmdpxyzlbgnrotcepvswoeh',\n",
       " 'nikfmdjxyzlbgnrotqepvswyqh',\n",
       " 'qgkfmdjxyzlbgnmotcepvswaqh']"
      ]
     },
     "execution_count": 3,
     "metadata": {},
     "output_type": "execute_result"
    }
   ],
   "source": [
    "input_ = open('./dec_2_input.txt').read().split()\n",
    "input_[:5]"
   ]
  },
  {
   "cell_type": "markdown",
   "metadata": {},
   "source": [
    "#### Write Function"
   ]
  },
  {
   "cell_type": "code",
   "execution_count": 4,
   "metadata": {},
   "outputs": [
    {
     "data": {
      "text/plain": [
       "'ubkfmdjxyzlbgkrotcepvswaqx'"
      ]
     },
     "execution_count": 4,
     "metadata": {},
     "output_type": "execute_result"
    }
   ],
   "source": [
    "test_input = input_[0]\n",
    "test_input"
   ]
  },
  {
   "cell_type": "code",
   "execution_count": 5,
   "metadata": {},
   "outputs": [],
   "source": [
    "def doubles_triples_test (string_input):\n",
    "    '''\n",
    "    input is a string of alpha characters\n",
    "    purpose is to count how often each of the letters repeat\n",
    "    return how many letters appear twice\n",
    "    return how many letters appear thrice\n",
    "    as a tuple output: (count of letters appearing 2x, count of letters appearing 3x)'''\n",
    "    \n",
    "    counted_list_of_tuples = Counter(string_input).most_common()\n",
    "    \n",
    "    doubles_counter = 0\n",
    "    triples_counter = 0\n",
    "    \n",
    "    for x in counted_list_of_tuples:\n",
    "        if x[1] == 2:\n",
    "            doubles_counter += 1\n",
    "        elif x[1] == 3:\n",
    "            triples_counter += 1\n",
    "        else:\n",
    "            pass\n",
    "    \n",
    "    return doubles_counter, triples_counter"
   ]
  },
  {
   "cell_type": "code",
   "execution_count": 6,
   "metadata": {},
   "outputs": [
    {
     "data": {
      "text/plain": [
       "(3, 0)"
      ]
     },
     "execution_count": 6,
     "metadata": {},
     "output_type": "execute_result"
    }
   ],
   "source": [
    "doubles_triples_test(test_input)"
   ]
  },
  {
   "cell_type": "code",
   "execution_count": 7,
   "metadata": {},
   "outputs": [],
   "source": [
    "def aggregate_counter (double_triple_count):\n",
    "    '''input is a tuple, index 0 with the double count, and index 1 with the triple count'''\n",
    "    doubles_agg = 0\n",
    "    triples_agg = 0\n",
    "    \n",
    "    if double_triple_count[0] != 0:\n",
    "        doubles_agg += 1\n",
    "    if double_triple_count[1] != 0:\n",
    "        triples_agg += 1\n",
    "    \n",
    "    return doubles_agg, triples_agg"
   ]
  },
  {
   "cell_type": "code",
   "execution_count": 8,
   "metadata": {
    "scrolled": true
   },
   "outputs": [
    {
     "data": {
      "text/plain": [
       "(1, 0)"
      ]
     },
     "execution_count": 8,
     "metadata": {},
     "output_type": "execute_result"
    }
   ],
   "source": [
    "aggregate_counter(doubles_triples_test(test_input))"
   ]
  },
  {
   "cell_type": "markdown",
   "metadata": {},
   "source": [
    "## PART 2:\n",
    "\n",
    "Confident that your list of box IDs is complete, you're ready to find the boxes full of prototype fabric.\n",
    "\n",
    "The boxes will have IDs which differ by exactly one character at the same position in both strings. For example, given the following box IDs:\n",
    "\n",
    "- abcde\n",
    "- fghij\n",
    "- klmno\n",
    "- pqrst\n",
    "- fguij\n",
    "- axcye\n",
    "- wvxyz\n",
    "\n",
    "\n",
    "The IDs abcde and axcye are close, but they differ by two characters (the second and fourth). However, the IDs fghij and fguij differ by exactly one character, the third (h and u). Those must be the correct boxes.\n",
    "\n",
    "**What letters are common between the two correct box IDs? (In the example above, this is found by removing the differing character from either ID, producing fgij.)**\n",
    "\n"
   ]
  },
  {
   "cell_type": "code",
   "execution_count": 9,
   "metadata": {},
   "outputs": [
    {
     "data": {
      "text/plain": [
       "'ubkfmdjxyzlbgkrotcepvswaqx'"
      ]
     },
     "execution_count": 9,
     "metadata": {},
     "output_type": "execute_result"
    }
   ],
   "source": [
    "input_[0]"
   ]
  },
  {
   "cell_type": "code",
   "execution_count": 10,
   "metadata": {},
   "outputs": [],
   "source": [
    "from itertools import combinations"
   ]
  },
  {
   "cell_type": "code",
   "execution_count": 14,
   "metadata": {},
   "outputs": [
    {
     "data": {
      "text/plain": [
       "[('ubkfmdjxyzlbgkrotcepvswaqx', 'uikfmdkuyzlbgerotcepvswaqh'),\n",
       " ('ubkfmdjxyzlbgkrotcepvswaqx', 'uikfmdpxyzlbgnrotcepvswoeh'),\n",
       " ('ubkfmdjxyzlbgkrotcepvswaqx', 'nikfmdjxyzlbgnrotqepvswyqh'),\n",
       " ('ubkfmdjxyzlbgkrotcepvswaqx', 'qgkfmdjxyzlbgnmotcepvswaqh'),\n",
       " ('ubkfmdjxyzlbgkrotcepvswaqx', 'uikfmdjxyzqbgnrytcepvsbaqh')]"
      ]
     },
     "execution_count": 14,
     "metadata": {},
     "output_type": "execute_result"
    }
   ],
   "source": [
    "pairwise_combos = list(combinations(input_, 2))\n",
    "pairwise_combos[:5]"
   ]
  },
  {
   "cell_type": "code",
   "execution_count": 15,
   "metadata": {},
   "outputs": [
    {
     "data": {
      "text/plain": [
       "31125"
      ]
     },
     "execution_count": 15,
     "metadata": {},
     "output_type": "execute_result"
    }
   ],
   "source": [
    "len(pairwise_combos)"
   ]
  },
  {
   "cell_type": "code",
   "execution_count": 32,
   "metadata": {},
   "outputs": [],
   "source": [
    "def one_letter_off_checker (string_a, string_b):\n",
    "    \n",
    "    off_counter = 0\n",
    "    off_index = []\n",
    "    for i in range(len(string_a)):\n",
    "        if string_a[i] == string_b[i]:\n",
    "            pass\n",
    "        else:\n",
    "            off_counter += 1\n",
    "            off_index.append(i)\n",
    "    \n",
    "    return (off_counter, off_index)"
   ]
  },
  {
   "cell_type": "code",
   "execution_count": 33,
   "metadata": {},
   "outputs": [],
   "source": [
    "# run this on all combos\n",
    "results = []\n",
    "for combo in pairwise_combos:    \n",
    "    results.append(one_letter_off_checker(combo[0], combo[1]))"
   ]
  },
  {
   "cell_type": "code",
   "execution_count": 36,
   "metadata": {
    "scrolled": true
   },
   "outputs": [
    {
     "data": {
      "text/plain": [
       "(array([8601]),)"
      ]
     },
     "execution_count": 36,
     "metadata": {},
     "output_type": "execute_result"
    }
   ],
   "source": [
    "# find the index for the combo that's off by only 1 letter\n",
    "np.where([result[0] == 1 for result in results])"
   ]
  },
  {
   "cell_type": "code",
   "execution_count": 42,
   "metadata": {},
   "outputs": [],
   "source": [
    "# therefore the letters that are the same are all others except index 2\n",
    "list(pairwise_combos[8601][0]).remove(pairwise_combos[8601][0][2])"
   ]
  },
  {
   "cell_type": "code",
   "execution_count": 46,
   "metadata": {},
   "outputs": [
    {
     "data": {
      "text/plain": [
       "'k'"
      ]
     },
     "execution_count": 46,
     "metadata": {},
     "output_type": "execute_result"
    }
   ],
   "source": [
    "temp_list = list(pairwise_combos[8601][0])\n",
    "temp_list.pop(2)"
   ]
  },
  {
   "cell_type": "code",
   "execution_count": 53,
   "metadata": {},
   "outputs": [
    {
     "data": {
      "text/plain": [
       "'uwfmdjxyxlbgnrotcfpvswaqh'"
      ]
     },
     "execution_count": 53,
     "metadata": {},
     "output_type": "execute_result"
    }
   ],
   "source": [
    "''.join(temp_list)"
   ]
  },
  {
   "cell_type": "code",
   "execution_count": null,
   "metadata": {},
   "outputs": [],
   "source": []
  }
 ],
 "metadata": {
  "kernelspec": {
   "display_name": "Python 3",
   "language": "python",
   "name": "python3"
  },
  "language_info": {
   "codemirror_mode": {
    "name": "ipython",
    "version": 3
   },
   "file_extension": ".py",
   "mimetype": "text/x-python",
   "name": "python",
   "nbconvert_exporter": "python",
   "pygments_lexer": "ipython3",
   "version": "3.6.5"
  }
 },
 "nbformat": 4,
 "nbformat_minor": 2
}
